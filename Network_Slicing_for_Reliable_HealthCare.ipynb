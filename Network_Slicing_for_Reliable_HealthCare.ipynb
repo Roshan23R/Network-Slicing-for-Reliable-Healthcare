{
  "nbformat": 4,
  "nbformat_minor": 0,
  "metadata": {
    "colab": {
      "provenance": []
    },
    "kernelspec": {
      "name": "python3",
      "display_name": "Python 3"
    },
    "language_info": {
      "name": "python"
    }
  },
  "cells": [
    {
      "cell_type": "code",
      "execution_count": null,
      "metadata": {
        "id": "3Ypx4O6vkwYL"
      },
      "outputs": [],
      "source": [
        "import matplotlib.pyplot as plt\n",
        "import numpy as np\n",
        "import pandas as pd\n",
        "from sklearn.cluster import KMeans\n",
        "import seaborn as sns\n",
        "import numpy as np"
      ]
    },
    {
      "cell_type": "code",
      "source": [
        "from google.colab import drive\n",
        "drive.mount('/content/drive')"
      ],
      "metadata": {
        "colab": {
          "base_uri": "https://localhost:8080/"
        },
        "id": "X9LDnZOdk2Gu",
        "outputId": "799458d8-a49f-4204-f987-ef208ecf981e"
      },
      "execution_count": null,
      "outputs": [
        {
          "output_type": "stream",
          "name": "stdout",
          "text": [
            "Drive already mounted at /content/drive; to attempt to forcibly remount, call drive.mount(\"/content/drive\", force_remount=True).\n"
          ]
        }
      ]
    },
    {
      "cell_type": "code",
      "source": [
        "train = pd.read_csv(\"/content/drive/MyDrive/Data Network/train_dataset.csv\")\n",
        "test = pd.read_csv(\"/content/drive/MyDrive/Data Network/test_dataset.csv\")"
      ],
      "metadata": {
        "id": "hglS6Ehfk4Qd"
      },
      "execution_count": null,
      "outputs": []
    },
    {
      "cell_type": "code",
      "source": [
        "train"
      ],
      "metadata": {
        "colab": {
          "base_uri": "https://localhost:8080/",
          "height": 485
        },
        "id": "nQVu6_T-k6aK",
        "outputId": "ec1365a7-da5c-4f00-ccd7-b2efb9e11a2c"
      },
      "execution_count": null,
      "outputs": [
        {
          "output_type": "execute_result",
          "data": {
            "text/plain": [
              "       LTE/5g Category  Time  Packet Loss Rate  Packet delay  IoT  LTE/5G  \\\n",
              "0                   14     0          0.000001            10    1       0   \n",
              "1                   18    20          0.001000           100    0       1   \n",
              "2                   17    14          0.000001           300    0       1   \n",
              "3                    3    17          0.010000           100    0       1   \n",
              "4                    9     4          0.010000            50    1       0   \n",
              "...                ...   ...               ...           ...  ...     ...   \n",
              "31578               14    23          0.010000           100    0       1   \n",
              "31579               12     7          0.010000            50    1       0   \n",
              "31580               18     5          0.010000           300    1       0   \n",
              "31581                8     1          0.000001            10    1       0   \n",
              "31582               20    20          0.000001            10    1       0   \n",
              "\n",
              "       GBR  Non-GBR  AR/VR/Gaming  Healthcare  Industry 4.0  IoT Devices  \\\n",
              "0        0        1             0           0             0            0   \n",
              "1        1        0             1           0             0            0   \n",
              "2        0        1             0           0             0            0   \n",
              "3        0        1             0           0             0            0   \n",
              "4        0        1             0           0             0            0   \n",
              "...    ...      ...           ...         ...           ...          ...   \n",
              "31578    0        1             0           0             0            0   \n",
              "31579    0        1             0           0             0            0   \n",
              "31580    1        0             0           0             0            1   \n",
              "31581    0        1             0           1             0            0   \n",
              "31582    0        1             0           0             1            0   \n",
              "\n",
              "       Public Safety  Smart City & Home  Smart Transportation  Smartphone  \\\n",
              "0                  1                  0                     0           0   \n",
              "1                  0                  0                     0           0   \n",
              "2                  0                  0                     0           1   \n",
              "3                  0                  0                     0           1   \n",
              "4                  0                  1                     0           0   \n",
              "...              ...                ...                   ...         ...   \n",
              "31578              0                  0                     0           1   \n",
              "31579              0                  1                     0           0   \n",
              "31580              0                  0                     0           0   \n",
              "31581              0                  0                     0           0   \n",
              "31582              0                  0                     0           0   \n",
              "\n",
              "       slice Type  \n",
              "0               3  \n",
              "1               1  \n",
              "2               1  \n",
              "3               1  \n",
              "4               2  \n",
              "...           ...  \n",
              "31578           1  \n",
              "31579           2  \n",
              "31580           2  \n",
              "31581           3  \n",
              "31582           3  \n",
              "\n",
              "[31583 rows x 17 columns]"
            ],
            "text/html": [
              "\n",
              "  <div id=\"df-1806b2d5-2952-46f7-bb53-859bff32b38d\">\n",
              "    <div class=\"colab-df-container\">\n",
              "      <div>\n",
              "<style scoped>\n",
              "    .dataframe tbody tr th:only-of-type {\n",
              "        vertical-align: middle;\n",
              "    }\n",
              "\n",
              "    .dataframe tbody tr th {\n",
              "        vertical-align: top;\n",
              "    }\n",
              "\n",
              "    .dataframe thead th {\n",
              "        text-align: right;\n",
              "    }\n",
              "</style>\n",
              "<table border=\"1\" class=\"dataframe\">\n",
              "  <thead>\n",
              "    <tr style=\"text-align: right;\">\n",
              "      <th></th>\n",
              "      <th>LTE/5g Category</th>\n",
              "      <th>Time</th>\n",
              "      <th>Packet Loss Rate</th>\n",
              "      <th>Packet delay</th>\n",
              "      <th>IoT</th>\n",
              "      <th>LTE/5G</th>\n",
              "      <th>GBR</th>\n",
              "      <th>Non-GBR</th>\n",
              "      <th>AR/VR/Gaming</th>\n",
              "      <th>Healthcare</th>\n",
              "      <th>Industry 4.0</th>\n",
              "      <th>IoT Devices</th>\n",
              "      <th>Public Safety</th>\n",
              "      <th>Smart City &amp; Home</th>\n",
              "      <th>Smart Transportation</th>\n",
              "      <th>Smartphone</th>\n",
              "      <th>slice Type</th>\n",
              "    </tr>\n",
              "  </thead>\n",
              "  <tbody>\n",
              "    <tr>\n",
              "      <th>0</th>\n",
              "      <td>14</td>\n",
              "      <td>0</td>\n",
              "      <td>0.000001</td>\n",
              "      <td>10</td>\n",
              "      <td>1</td>\n",
              "      <td>0</td>\n",
              "      <td>0</td>\n",
              "      <td>1</td>\n",
              "      <td>0</td>\n",
              "      <td>0</td>\n",
              "      <td>0</td>\n",
              "      <td>0</td>\n",
              "      <td>1</td>\n",
              "      <td>0</td>\n",
              "      <td>0</td>\n",
              "      <td>0</td>\n",
              "      <td>3</td>\n",
              "    </tr>\n",
              "    <tr>\n",
              "      <th>1</th>\n",
              "      <td>18</td>\n",
              "      <td>20</td>\n",
              "      <td>0.001000</td>\n",
              "      <td>100</td>\n",
              "      <td>0</td>\n",
              "      <td>1</td>\n",
              "      <td>1</td>\n",
              "      <td>0</td>\n",
              "      <td>1</td>\n",
              "      <td>0</td>\n",
              "      <td>0</td>\n",
              "      <td>0</td>\n",
              "      <td>0</td>\n",
              "      <td>0</td>\n",
              "      <td>0</td>\n",
              "      <td>0</td>\n",
              "      <td>1</td>\n",
              "    </tr>\n",
              "    <tr>\n",
              "      <th>2</th>\n",
              "      <td>17</td>\n",
              "      <td>14</td>\n",
              "      <td>0.000001</td>\n",
              "      <td>300</td>\n",
              "      <td>0</td>\n",
              "      <td>1</td>\n",
              "      <td>0</td>\n",
              "      <td>1</td>\n",
              "      <td>0</td>\n",
              "      <td>0</td>\n",
              "      <td>0</td>\n",
              "      <td>0</td>\n",
              "      <td>0</td>\n",
              "      <td>0</td>\n",
              "      <td>0</td>\n",
              "      <td>1</td>\n",
              "      <td>1</td>\n",
              "    </tr>\n",
              "    <tr>\n",
              "      <th>3</th>\n",
              "      <td>3</td>\n",
              "      <td>17</td>\n",
              "      <td>0.010000</td>\n",
              "      <td>100</td>\n",
              "      <td>0</td>\n",
              "      <td>1</td>\n",
              "      <td>0</td>\n",
              "      <td>1</td>\n",
              "      <td>0</td>\n",
              "      <td>0</td>\n",
              "      <td>0</td>\n",
              "      <td>0</td>\n",
              "      <td>0</td>\n",
              "      <td>0</td>\n",
              "      <td>0</td>\n",
              "      <td>1</td>\n",
              "      <td>1</td>\n",
              "    </tr>\n",
              "    <tr>\n",
              "      <th>4</th>\n",
              "      <td>9</td>\n",
              "      <td>4</td>\n",
              "      <td>0.010000</td>\n",
              "      <td>50</td>\n",
              "      <td>1</td>\n",
              "      <td>0</td>\n",
              "      <td>0</td>\n",
              "      <td>1</td>\n",
              "      <td>0</td>\n",
              "      <td>0</td>\n",
              "      <td>0</td>\n",
              "      <td>0</td>\n",
              "      <td>0</td>\n",
              "      <td>1</td>\n",
              "      <td>0</td>\n",
              "      <td>0</td>\n",
              "      <td>2</td>\n",
              "    </tr>\n",
              "    <tr>\n",
              "      <th>...</th>\n",
              "      <td>...</td>\n",
              "      <td>...</td>\n",
              "      <td>...</td>\n",
              "      <td>...</td>\n",
              "      <td>...</td>\n",
              "      <td>...</td>\n",
              "      <td>...</td>\n",
              "      <td>...</td>\n",
              "      <td>...</td>\n",
              "      <td>...</td>\n",
              "      <td>...</td>\n",
              "      <td>...</td>\n",
              "      <td>...</td>\n",
              "      <td>...</td>\n",
              "      <td>...</td>\n",
              "      <td>...</td>\n",
              "      <td>...</td>\n",
              "    </tr>\n",
              "    <tr>\n",
              "      <th>31578</th>\n",
              "      <td>14</td>\n",
              "      <td>23</td>\n",
              "      <td>0.010000</td>\n",
              "      <td>100</td>\n",
              "      <td>0</td>\n",
              "      <td>1</td>\n",
              "      <td>0</td>\n",
              "      <td>1</td>\n",
              "      <td>0</td>\n",
              "      <td>0</td>\n",
              "      <td>0</td>\n",
              "      <td>0</td>\n",
              "      <td>0</td>\n",
              "      <td>0</td>\n",
              "      <td>0</td>\n",
              "      <td>1</td>\n",
              "      <td>1</td>\n",
              "    </tr>\n",
              "    <tr>\n",
              "      <th>31579</th>\n",
              "      <td>12</td>\n",
              "      <td>7</td>\n",
              "      <td>0.010000</td>\n",
              "      <td>50</td>\n",
              "      <td>1</td>\n",
              "      <td>0</td>\n",
              "      <td>0</td>\n",
              "      <td>1</td>\n",
              "      <td>0</td>\n",
              "      <td>0</td>\n",
              "      <td>0</td>\n",
              "      <td>0</td>\n",
              "      <td>0</td>\n",
              "      <td>1</td>\n",
              "      <td>0</td>\n",
              "      <td>0</td>\n",
              "      <td>2</td>\n",
              "    </tr>\n",
              "    <tr>\n",
              "      <th>31580</th>\n",
              "      <td>18</td>\n",
              "      <td>5</td>\n",
              "      <td>0.010000</td>\n",
              "      <td>300</td>\n",
              "      <td>1</td>\n",
              "      <td>0</td>\n",
              "      <td>1</td>\n",
              "      <td>0</td>\n",
              "      <td>0</td>\n",
              "      <td>0</td>\n",
              "      <td>0</td>\n",
              "      <td>1</td>\n",
              "      <td>0</td>\n",
              "      <td>0</td>\n",
              "      <td>0</td>\n",
              "      <td>0</td>\n",
              "      <td>2</td>\n",
              "    </tr>\n",
              "    <tr>\n",
              "      <th>31581</th>\n",
              "      <td>8</td>\n",
              "      <td>1</td>\n",
              "      <td>0.000001</td>\n",
              "      <td>10</td>\n",
              "      <td>1</td>\n",
              "      <td>0</td>\n",
              "      <td>0</td>\n",
              "      <td>1</td>\n",
              "      <td>0</td>\n",
              "      <td>1</td>\n",
              "      <td>0</td>\n",
              "      <td>0</td>\n",
              "      <td>0</td>\n",
              "      <td>0</td>\n",
              "      <td>0</td>\n",
              "      <td>0</td>\n",
              "      <td>3</td>\n",
              "    </tr>\n",
              "    <tr>\n",
              "      <th>31582</th>\n",
              "      <td>20</td>\n",
              "      <td>20</td>\n",
              "      <td>0.000001</td>\n",
              "      <td>10</td>\n",
              "      <td>1</td>\n",
              "      <td>0</td>\n",
              "      <td>0</td>\n",
              "      <td>1</td>\n",
              "      <td>0</td>\n",
              "      <td>0</td>\n",
              "      <td>1</td>\n",
              "      <td>0</td>\n",
              "      <td>0</td>\n",
              "      <td>0</td>\n",
              "      <td>0</td>\n",
              "      <td>0</td>\n",
              "      <td>3</td>\n",
              "    </tr>\n",
              "  </tbody>\n",
              "</table>\n",
              "<p>31583 rows × 17 columns</p>\n",
              "</div>\n",
              "      <button class=\"colab-df-convert\" onclick=\"convertToInteractive('df-1806b2d5-2952-46f7-bb53-859bff32b38d')\"\n",
              "              title=\"Convert this dataframe to an interactive table.\"\n",
              "              style=\"display:none;\">\n",
              "        \n",
              "  <svg xmlns=\"http://www.w3.org/2000/svg\" height=\"24px\"viewBox=\"0 0 24 24\"\n",
              "       width=\"24px\">\n",
              "    <path d=\"M0 0h24v24H0V0z\" fill=\"none\"/>\n",
              "    <path d=\"M18.56 5.44l.94 2.06.94-2.06 2.06-.94-2.06-.94-.94-2.06-.94 2.06-2.06.94zm-11 1L8.5 8.5l.94-2.06 2.06-.94-2.06-.94L8.5 2.5l-.94 2.06-2.06.94zm10 10l.94 2.06.94-2.06 2.06-.94-2.06-.94-.94-2.06-.94 2.06-2.06.94z\"/><path d=\"M17.41 7.96l-1.37-1.37c-.4-.4-.92-.59-1.43-.59-.52 0-1.04.2-1.43.59L10.3 9.45l-7.72 7.72c-.78.78-.78 2.05 0 2.83L4 21.41c.39.39.9.59 1.41.59.51 0 1.02-.2 1.41-.59l7.78-7.78 2.81-2.81c.8-.78.8-2.07 0-2.86zM5.41 20L4 18.59l7.72-7.72 1.47 1.35L5.41 20z\"/>\n",
              "  </svg>\n",
              "      </button>\n",
              "      \n",
              "  <style>\n",
              "    .colab-df-container {\n",
              "      display:flex;\n",
              "      flex-wrap:wrap;\n",
              "      gap: 12px;\n",
              "    }\n",
              "\n",
              "    .colab-df-convert {\n",
              "      background-color: #E8F0FE;\n",
              "      border: none;\n",
              "      border-radius: 50%;\n",
              "      cursor: pointer;\n",
              "      display: none;\n",
              "      fill: #1967D2;\n",
              "      height: 32px;\n",
              "      padding: 0 0 0 0;\n",
              "      width: 32px;\n",
              "    }\n",
              "\n",
              "    .colab-df-convert:hover {\n",
              "      background-color: #E2EBFA;\n",
              "      box-shadow: 0px 1px 2px rgba(60, 64, 67, 0.3), 0px 1px 3px 1px rgba(60, 64, 67, 0.15);\n",
              "      fill: #174EA6;\n",
              "    }\n",
              "\n",
              "    [theme=dark] .colab-df-convert {\n",
              "      background-color: #3B4455;\n",
              "      fill: #D2E3FC;\n",
              "    }\n",
              "\n",
              "    [theme=dark] .colab-df-convert:hover {\n",
              "      background-color: #434B5C;\n",
              "      box-shadow: 0px 1px 3px 1px rgba(0, 0, 0, 0.15);\n",
              "      filter: drop-shadow(0px 1px 2px rgba(0, 0, 0, 0.3));\n",
              "      fill: #FFFFFF;\n",
              "    }\n",
              "  </style>\n",
              "\n",
              "      <script>\n",
              "        const buttonEl =\n",
              "          document.querySelector('#df-1806b2d5-2952-46f7-bb53-859bff32b38d button.colab-df-convert');\n",
              "        buttonEl.style.display =\n",
              "          google.colab.kernel.accessAllowed ? 'block' : 'none';\n",
              "\n",
              "        async function convertToInteractive(key) {\n",
              "          const element = document.querySelector('#df-1806b2d5-2952-46f7-bb53-859bff32b38d');\n",
              "          const dataTable =\n",
              "            await google.colab.kernel.invokeFunction('convertToInteractive',\n",
              "                                                     [key], {});\n",
              "          if (!dataTable) return;\n",
              "\n",
              "          const docLinkHtml = 'Like what you see? Visit the ' +\n",
              "            '<a target=\"_blank\" href=https://colab.research.google.com/notebooks/data_table.ipynb>data table notebook</a>'\n",
              "            + ' to learn more about interactive tables.';\n",
              "          element.innerHTML = '';\n",
              "          dataTable['output_type'] = 'display_data';\n",
              "          await google.colab.output.renderOutput(dataTable, element);\n",
              "          const docLink = document.createElement('div');\n",
              "          docLink.innerHTML = docLinkHtml;\n",
              "          element.appendChild(docLink);\n",
              "        }\n",
              "      </script>\n",
              "    </div>\n",
              "  </div>\n",
              "  "
            ]
          },
          "metadata": {},
          "execution_count": 34
        }
      ]
    },
    {
      "cell_type": "code",
      "source": [
        "col=[ 'IoT','LTE/5G', 'GBR', 'Non-GBR', 'AR/VR/Gaming', 'Healthcare',\n",
        "       'Industry 4.0', 'IoT Devices', 'Public Safety', 'Smart City & Home',\n",
        "       'Smart Transportation', 'Smartphone']\n",
        "for x in col:\n",
        "  list = [0,0,0,0,0,0,0]\n",
        "  size=31583\n",
        "  for i in range(size):\n",
        "    if train[x][i]==1:\n",
        "      if train['Packet delay'][i]==10 :list[0]+=1\n",
        "      elif(train['Packet delay'][i]==50):list[1]+=1\n",
        "      elif(train['Packet delay'][i]==60):list[2]+=1\n",
        "      elif(train['Packet delay'][i]==75):list[3]+=1\n",
        "      elif(train['Packet delay'][i]==100):list[4]+=1\n",
        "      elif(train['Packet delay'][i]==150):list[5]+=1\n",
        "      else:list[6]+=1\n",
        "  print(x),print(list)"
      ],
      "metadata": {
        "colab": {
          "base_uri": "https://localhost:8080/"
        },
        "id": "CgtfLL46lNKk",
        "outputId": "6e5540e5-e5c7-43dd-eeba-ddc8eb8fa3f9"
      },
      "execution_count": null,
      "outputs": [
        {
          "output_type": "stream",
          "name": "stdout",
          "text": [
            "IoT\n",
            "[7392, 3726, 0, 0, 0, 0, 3666]\n",
            "LTE/5G\n",
            "[0, 1710, 1692, 1649, 6721, 1643, 3384]\n",
            "GBR\n",
            "[0, 1846, 1692, 0, 5047, 0, 5349]\n",
            "Non-GBR\n",
            "[7392, 3590, 0, 1649, 1674, 1643, 1701]\n",
            "AR/VR/Gaming\n",
            "[0, 1710, 0, 0, 1647, 0, 0]\n",
            "Healthcare\n",
            "[1830, 0, 0, 0, 0, 0, 0]\n",
            "Industry 4.0\n",
            "[1821, 1846, 0, 0, 0, 0, 0]\n",
            "IoT Devices\n",
            "[0, 0, 0, 0, 0, 0, 1828]\n",
            "Public Safety\n",
            "[1886, 0, 0, 0, 0, 0, 0]\n",
            "Smart City & Home\n",
            "[0, 1880, 0, 0, 0, 0, 1838]\n",
            "Smart Transportation\n",
            "[1855, 0, 0, 0, 0, 0, 0]\n",
            "Smartphone\n",
            "[0, 0, 1692, 1649, 5074, 1643, 3384]\n"
          ]
        }
      ]
    },
    {
      "cell_type": "code",
      "source": [
        "col=[ 'IoT','LTE/5G', 'GBR', 'Non-GBR', 'AR/VR/Gaming', 'Healthcare',\n",
        "       'Industry 4.0', 'IoT Devices', 'Public Safety', 'Smart City & Home',\n",
        "       'Smart Transportation', 'Smartphone']\n",
        "for x in col:\n",
        "  count_1=0\n",
        "  count_2=0\n",
        "  count_3=0\n",
        "  size=31583\n",
        "  for i in range(size):\n",
        "    if train[x][i]==1:\n",
        "      if train['Packet Loss Rate'][i]==0.000001 :count_1+=1\n",
        "      elif(train['Packet Loss Rate'][i]==0.010000):count_2+=1\n",
        "      else:count_3+=1\n",
        "  print(x),print(count_1,count_2,count_3)"
      ],
      "metadata": {
        "colab": {
          "base_uri": "https://localhost:8080/"
        },
        "id": "GAFmWSKplQdZ",
        "outputId": "a48810fd-9f01-499b-bb39-ef81719c6c75"
      },
      "execution_count": null,
      "outputs": [
        {
          "output_type": "stream",
          "name": "stdout",
          "text": [
            "IoT\n",
            "7392 5546 1846\n",
            "LTE/5G\n",
            "6771 3323 6705\n",
            "GBR\n",
            "5070 3666 5198\n",
            "Non-GBR\n",
            "9093 5203 3353\n",
            "AR/VR/Gaming\n",
            "0 0 3357\n",
            "Healthcare\n",
            "1830 0 0\n",
            "Industry 4.0\n",
            "1821 0 1846\n",
            "IoT Devices\n",
            "0 1828 0\n",
            "Public Safety\n",
            "1886 0 0\n",
            "Smart City & Home\n",
            "0 3718 0\n",
            "Smart Transportation\n",
            "1855 0 0\n",
            "Smartphone\n",
            "6771 3323 3348\n"
          ]
        }
      ]
    },
    {
      "cell_type": "code",
      "source": [
        "col=[ 'IoT','LTE/5G', 'GBR', 'Non-GBR', 'AR/VR/Gaming', 'Healthcare',\n",
        "       'Industry 4.0', 'IoT Devices', 'Public Safety', 'Smart City & Home',\n",
        "       'Smart Transportation', 'Smartphone']\n",
        "for x in col:\n",
        "  count_1=0\n",
        "  count_2=0\n",
        "  count_3=0\n",
        "  size=31583\n",
        "\n",
        "  for i in range(size):\n",
        "    if train[x][i]==1:\n",
        "      if(train['slice Type'][i]==1):count_1+=1\n",
        "      elif(train['slice Type'][i]==2):count_2+=1\n",
        "      else:count_3+=1\n",
        "  print(x, count_1,count_2,count_3)"
      ],
      "metadata": {
        "colab": {
          "base_uri": "https://localhost:8080/"
        },
        "id": "1ieP5XWhlUZE",
        "outputId": "a6632755-705d-4d8a-e2d4-56b251923a5a"
      },
      "execution_count": null,
      "outputs": [
        {
          "output_type": "stream",
          "name": "stdout",
          "text": [
            "IoT 0 7392 7392\n",
            "LTE/5G 16799 0 0\n",
            "GBR 8422 5512 0\n",
            "Non-GBR 8377 1880 7392\n",
            "AR/VR/Gaming 3357 0 0\n",
            "Healthcare 0 0 1830\n",
            "Industry 4.0 0 1846 1821\n",
            "IoT Devices 0 1828 0\n",
            "Public Safety 0 0 1886\n",
            "Smart City & Home 0 3718 0\n",
            "Smart Transportation 0 0 1855\n",
            "Smartphone 13442 0 0\n"
          ]
        }
      ]
    },
    {
      "cell_type": "code",
      "source": [
        "ct=0;\n",
        "for i in range(size):\n",
        "  if train['Healthcare'][i] == 1 :\n",
        "    if ct%3==0: \n",
        "      train['Packet Loss Rate'][i]=0.001000\n",
        "    if ct%5==0:\n",
        "      train['Packet Loss Rate'][i]=0.010000\n",
        "    ct+=1"
      ],
      "metadata": {
        "colab": {
          "base_uri": "https://localhost:8080/"
        },
        "id": "Mrc5QojXmAqk",
        "outputId": "1d6e6df3-5009-4b79-a188-8ec6a027c5e8"
      },
      "execution_count": null,
      "outputs": [
        {
          "output_type": "stream",
          "name": "stderr",
          "text": [
            "<ipython-input-38-a0000b28ee09>:5: SettingWithCopyWarning: \n",
            "A value is trying to be set on a copy of a slice from a DataFrame\n",
            "\n",
            "See the caveats in the documentation: https://pandas.pydata.org/pandas-docs/stable/user_guide/indexing.html#returning-a-view-versus-a-copy\n",
            "  train['Packet Loss Rate'][i]=0.001000\n",
            "<ipython-input-38-a0000b28ee09>:7: SettingWithCopyWarning: \n",
            "A value is trying to be set on a copy of a slice from a DataFrame\n",
            "\n",
            "See the caveats in the documentation: https://pandas.pydata.org/pandas-docs/stable/user_guide/indexing.html#returning-a-view-versus-a-copy\n",
            "  train['Packet Loss Rate'][i]=0.010000\n"
          ]
        }
      ]
    },
    {
      "cell_type": "code",
      "source": [
        "#Healthcare packet loss rate\n",
        "count_1=0\n",
        "count_2=0\n",
        "count_3=0\n",
        "size=31583\n",
        "for i in range(size):\n",
        "  if train['Healthcare'][i]==1:\n",
        "    if train['Packet Loss Rate'][i]==0.000001 :count_1+=1\n",
        "    elif(train['Packet Loss Rate'][i]==0.001000):count_2+=1\n",
        "    else:count_3+=1\n",
        "print(count_1,count_2,count_3)"
      ],
      "metadata": {
        "colab": {
          "base_uri": "https://localhost:8080/"
        },
        "id": "fcjfcgoZlsFu",
        "outputId": "0b4b6596-2ee9-45d5-e316-1be9c305adeb"
      },
      "execution_count": null,
      "outputs": [
        {
          "output_type": "stream",
          "name": "stdout",
          "text": [
            "976 488 366\n"
          ]
        }
      ]
    },
    {
      "cell_type": "code",
      "source": [
        "ct=0;\n",
        "for i in range(size):\n",
        "  if train['Healthcare'][i] == 1 :\n",
        "    if ct%2==0 and ct%16!=0: \n",
        "      train['Packet delay'][i]=50\n",
        "    if ct%3==0 and ct%7!=0:\n",
        "      train['Packet delay'][i]=75\n",
        "    if ct%5==0:\n",
        "      train['Packet delay'][i]=100\n",
        "    ct+=1"
      ],
      "metadata": {
        "colab": {
          "base_uri": "https://localhost:8080/"
        },
        "id": "Mg63tjx1mSfK",
        "outputId": "0daf935b-446a-42d1-b7d2-c11005d1db69"
      },
      "execution_count": null,
      "outputs": [
        {
          "output_type": "stream",
          "name": "stderr",
          "text": [
            "<ipython-input-40-ee94c8277dd3>:9: SettingWithCopyWarning: \n",
            "A value is trying to be set on a copy of a slice from a DataFrame\n",
            "\n",
            "See the caveats in the documentation: https://pandas.pydata.org/pandas-docs/stable/user_guide/indexing.html#returning-a-view-versus-a-copy\n",
            "  train['Packet delay'][i]=100\n",
            "<ipython-input-40-ee94c8277dd3>:5: SettingWithCopyWarning: \n",
            "A value is trying to be set on a copy of a slice from a DataFrame\n",
            "\n",
            "See the caveats in the documentation: https://pandas.pydata.org/pandas-docs/stable/user_guide/indexing.html#returning-a-view-versus-a-copy\n",
            "  train['Packet delay'][i]=50\n",
            "<ipython-input-40-ee94c8277dd3>:7: SettingWithCopyWarning: \n",
            "A value is trying to be set on a copy of a slice from a DataFrame\n",
            "\n",
            "See the caveats in the documentation: https://pandas.pydata.org/pandas-docs/stable/user_guide/indexing.html#returning-a-view-versus-a-copy\n",
            "  train['Packet delay'][i]=75\n"
          ]
        }
      ]
    },
    {
      "cell_type": "code",
      "source": [
        "#Healthcare packet loss rate\n",
        "count_1=0\n",
        "count_2=0\n",
        "count_3=0\n",
        "count_4=0\n",
        "size=31583\n",
        "for i in range(size):\n",
        "  if train['Healthcare'][i]==1:\n",
        "    if train['Packet delay'][i]==10 :count_1+=1\n",
        "    elif(train['Packet delay'][i]==50):count_2+=1\n",
        "    elif(train['Packet delay'][i]==75):count_3+=1\n",
        "    else:count_4+=1\n",
        "print(count_1,count_2,count_3,count_4)"
      ],
      "metadata": {
        "colab": {
          "base_uri": "https://localhost:8080/"
        },
        "id": "YqBpf06kmkMV",
        "outputId": "522c85ab-09a5-4c4e-8e0c-aec020f03c67"
      },
      "execution_count": null,
      "outputs": [
        {
          "output_type": "stream",
          "name": "stdout",
          "text": [
            "588 458 418 366\n"
          ]
        }
      ]
    },
    {
      "cell_type": "code",
      "source": [
        "train[\"PacketSize\"]=np.zeros(size)\n",
        "\n",
        "for i in range(size):\n",
        "  if train[\"slice Type\"][i] == 1:\n",
        "    train[\"PacketSize\"][i] = np.random.randint(200, 250)\n",
        "  elif train[\"slice Type\"][i] == 2:\n",
        "    train[\"PacketSize\"][i] = np.random.randint(120, 220)\n",
        "  else:\n",
        "    train[\"PacketSize\"][i] = np.random.randint(50, 150)\n"
      ],
      "metadata": {
        "colab": {
          "base_uri": "https://localhost:8080/"
        },
        "id": "WYuoo7y5oEd4",
        "outputId": "59eb01df-6237-434d-817d-3ffdb053c87a"
      },
      "execution_count": null,
      "outputs": [
        {
          "output_type": "stream",
          "name": "stderr",
          "text": [
            "<ipython-input-42-72869469152f>:9: SettingWithCopyWarning: \n",
            "A value is trying to be set on a copy of a slice from a DataFrame\n",
            "\n",
            "See the caveats in the documentation: https://pandas.pydata.org/pandas-docs/stable/user_guide/indexing.html#returning-a-view-versus-a-copy\n",
            "  train[\"PacketSize\"][i] = np.random.randint(50, 150)\n",
            "<ipython-input-42-72869469152f>:5: SettingWithCopyWarning: \n",
            "A value is trying to be set on a copy of a slice from a DataFrame\n",
            "\n",
            "See the caveats in the documentation: https://pandas.pydata.org/pandas-docs/stable/user_guide/indexing.html#returning-a-view-versus-a-copy\n",
            "  train[\"PacketSize\"][i] = np.random.randint(200, 250)\n",
            "<ipython-input-42-72869469152f>:7: SettingWithCopyWarning: \n",
            "A value is trying to be set on a copy of a slice from a DataFrame\n",
            "\n",
            "See the caveats in the documentation: https://pandas.pydata.org/pandas-docs/stable/user_guide/indexing.html#returning-a-view-versus-a-copy\n",
            "  train[\"PacketSize\"][i] = np.random.randint(120, 220)\n"
          ]
        }
      ]
    },
    {
      "cell_type": "code",
      "source": [
        "train.rename(columns = {'Packet Loss Rate':'PacketLossRate'}, inplace = True)\n",
        "train.rename(columns = {'Packet delay':'PacketDelay'}, inplace = True)\n",
        "train.rename(columns = {'slice Type':'sliceType'}, inplace = True)\n",
        "train"
      ],
      "metadata": {
        "colab": {
          "base_uri": "https://localhost:8080/",
          "height": 520
        },
        "id": "FnapIteroP3I",
        "outputId": "99eced17-acd5-4a7f-8e38-288825583c3e"
      },
      "execution_count": null,
      "outputs": [
        {
          "output_type": "execute_result",
          "data": {
            "text/plain": [
              "       LTE/5g Category  Time  PacketLossRate  PacketDelay  IoT  LTE/5G  GBR  \\\n",
              "0                   14     0        0.000001           10    1       0    0   \n",
              "1                   18    20        0.001000          100    0       1    1   \n",
              "2                   17    14        0.000001          300    0       1    0   \n",
              "3                    3    17        0.010000          100    0       1    0   \n",
              "4                    9     4        0.010000           50    1       0    0   \n",
              "...                ...   ...             ...          ...  ...     ...  ...   \n",
              "31578               14    23        0.010000          100    0       1    0   \n",
              "31579               12     7        0.010000           50    1       0    0   \n",
              "31580               18     5        0.010000          300    1       0    1   \n",
              "31581                8     1        0.000001           10    1       0    0   \n",
              "31582               20    20        0.000001           10    1       0    0   \n",
              "\n",
              "       Non-GBR  AR/VR/Gaming  Healthcare  Industry 4.0  IoT Devices  \\\n",
              "0            1             0           0             0            0   \n",
              "1            0             1           0             0            0   \n",
              "2            1             0           0             0            0   \n",
              "3            1             0           0             0            0   \n",
              "4            1             0           0             0            0   \n",
              "...        ...           ...         ...           ...          ...   \n",
              "31578        1             0           0             0            0   \n",
              "31579        1             0           0             0            0   \n",
              "31580        0             0           0             0            1   \n",
              "31581        1             0           1             0            0   \n",
              "31582        1             0           0             1            0   \n",
              "\n",
              "       Public Safety  Smart City & Home  Smart Transportation  Smartphone  \\\n",
              "0                  1                  0                     0           0   \n",
              "1                  0                  0                     0           0   \n",
              "2                  0                  0                     0           1   \n",
              "3                  0                  0                     0           1   \n",
              "4                  0                  1                     0           0   \n",
              "...              ...                ...                   ...         ...   \n",
              "31578              0                  0                     0           1   \n",
              "31579              0                  1                     0           0   \n",
              "31580              0                  0                     0           0   \n",
              "31581              0                  0                     0           0   \n",
              "31582              0                  0                     0           0   \n",
              "\n",
              "       sliceType  PacketSize  \n",
              "0              3        61.0  \n",
              "1              1       235.0  \n",
              "2              1       203.0  \n",
              "3              1       203.0  \n",
              "4              2       120.0  \n",
              "...          ...         ...  \n",
              "31578          1       242.0  \n",
              "31579          2       140.0  \n",
              "31580          2       189.0  \n",
              "31581          3       116.0  \n",
              "31582          3        69.0  \n",
              "\n",
              "[31583 rows x 18 columns]"
            ],
            "text/html": [
              "\n",
              "  <div id=\"df-a871649b-bf34-4980-8668-d2cc2135e7f7\">\n",
              "    <div class=\"colab-df-container\">\n",
              "      <div>\n",
              "<style scoped>\n",
              "    .dataframe tbody tr th:only-of-type {\n",
              "        vertical-align: middle;\n",
              "    }\n",
              "\n",
              "    .dataframe tbody tr th {\n",
              "        vertical-align: top;\n",
              "    }\n",
              "\n",
              "    .dataframe thead th {\n",
              "        text-align: right;\n",
              "    }\n",
              "</style>\n",
              "<table border=\"1\" class=\"dataframe\">\n",
              "  <thead>\n",
              "    <tr style=\"text-align: right;\">\n",
              "      <th></th>\n",
              "      <th>LTE/5g Category</th>\n",
              "      <th>Time</th>\n",
              "      <th>PacketLossRate</th>\n",
              "      <th>PacketDelay</th>\n",
              "      <th>IoT</th>\n",
              "      <th>LTE/5G</th>\n",
              "      <th>GBR</th>\n",
              "      <th>Non-GBR</th>\n",
              "      <th>AR/VR/Gaming</th>\n",
              "      <th>Healthcare</th>\n",
              "      <th>Industry 4.0</th>\n",
              "      <th>IoT Devices</th>\n",
              "      <th>Public Safety</th>\n",
              "      <th>Smart City &amp; Home</th>\n",
              "      <th>Smart Transportation</th>\n",
              "      <th>Smartphone</th>\n",
              "      <th>sliceType</th>\n",
              "      <th>PacketSize</th>\n",
              "    </tr>\n",
              "  </thead>\n",
              "  <tbody>\n",
              "    <tr>\n",
              "      <th>0</th>\n",
              "      <td>14</td>\n",
              "      <td>0</td>\n",
              "      <td>0.000001</td>\n",
              "      <td>10</td>\n",
              "      <td>1</td>\n",
              "      <td>0</td>\n",
              "      <td>0</td>\n",
              "      <td>1</td>\n",
              "      <td>0</td>\n",
              "      <td>0</td>\n",
              "      <td>0</td>\n",
              "      <td>0</td>\n",
              "      <td>1</td>\n",
              "      <td>0</td>\n",
              "      <td>0</td>\n",
              "      <td>0</td>\n",
              "      <td>3</td>\n",
              "      <td>61.0</td>\n",
              "    </tr>\n",
              "    <tr>\n",
              "      <th>1</th>\n",
              "      <td>18</td>\n",
              "      <td>20</td>\n",
              "      <td>0.001000</td>\n",
              "      <td>100</td>\n",
              "      <td>0</td>\n",
              "      <td>1</td>\n",
              "      <td>1</td>\n",
              "      <td>0</td>\n",
              "      <td>1</td>\n",
              "      <td>0</td>\n",
              "      <td>0</td>\n",
              "      <td>0</td>\n",
              "      <td>0</td>\n",
              "      <td>0</td>\n",
              "      <td>0</td>\n",
              "      <td>0</td>\n",
              "      <td>1</td>\n",
              "      <td>235.0</td>\n",
              "    </tr>\n",
              "    <tr>\n",
              "      <th>2</th>\n",
              "      <td>17</td>\n",
              "      <td>14</td>\n",
              "      <td>0.000001</td>\n",
              "      <td>300</td>\n",
              "      <td>0</td>\n",
              "      <td>1</td>\n",
              "      <td>0</td>\n",
              "      <td>1</td>\n",
              "      <td>0</td>\n",
              "      <td>0</td>\n",
              "      <td>0</td>\n",
              "      <td>0</td>\n",
              "      <td>0</td>\n",
              "      <td>0</td>\n",
              "      <td>0</td>\n",
              "      <td>1</td>\n",
              "      <td>1</td>\n",
              "      <td>203.0</td>\n",
              "    </tr>\n",
              "    <tr>\n",
              "      <th>3</th>\n",
              "      <td>3</td>\n",
              "      <td>17</td>\n",
              "      <td>0.010000</td>\n",
              "      <td>100</td>\n",
              "      <td>0</td>\n",
              "      <td>1</td>\n",
              "      <td>0</td>\n",
              "      <td>1</td>\n",
              "      <td>0</td>\n",
              "      <td>0</td>\n",
              "      <td>0</td>\n",
              "      <td>0</td>\n",
              "      <td>0</td>\n",
              "      <td>0</td>\n",
              "      <td>0</td>\n",
              "      <td>1</td>\n",
              "      <td>1</td>\n",
              "      <td>203.0</td>\n",
              "    </tr>\n",
              "    <tr>\n",
              "      <th>4</th>\n",
              "      <td>9</td>\n",
              "      <td>4</td>\n",
              "      <td>0.010000</td>\n",
              "      <td>50</td>\n",
              "      <td>1</td>\n",
              "      <td>0</td>\n",
              "      <td>0</td>\n",
              "      <td>1</td>\n",
              "      <td>0</td>\n",
              "      <td>0</td>\n",
              "      <td>0</td>\n",
              "      <td>0</td>\n",
              "      <td>0</td>\n",
              "      <td>1</td>\n",
              "      <td>0</td>\n",
              "      <td>0</td>\n",
              "      <td>2</td>\n",
              "      <td>120.0</td>\n",
              "    </tr>\n",
              "    <tr>\n",
              "      <th>...</th>\n",
              "      <td>...</td>\n",
              "      <td>...</td>\n",
              "      <td>...</td>\n",
              "      <td>...</td>\n",
              "      <td>...</td>\n",
              "      <td>...</td>\n",
              "      <td>...</td>\n",
              "      <td>...</td>\n",
              "      <td>...</td>\n",
              "      <td>...</td>\n",
              "      <td>...</td>\n",
              "      <td>...</td>\n",
              "      <td>...</td>\n",
              "      <td>...</td>\n",
              "      <td>...</td>\n",
              "      <td>...</td>\n",
              "      <td>...</td>\n",
              "      <td>...</td>\n",
              "    </tr>\n",
              "    <tr>\n",
              "      <th>31578</th>\n",
              "      <td>14</td>\n",
              "      <td>23</td>\n",
              "      <td>0.010000</td>\n",
              "      <td>100</td>\n",
              "      <td>0</td>\n",
              "      <td>1</td>\n",
              "      <td>0</td>\n",
              "      <td>1</td>\n",
              "      <td>0</td>\n",
              "      <td>0</td>\n",
              "      <td>0</td>\n",
              "      <td>0</td>\n",
              "      <td>0</td>\n",
              "      <td>0</td>\n",
              "      <td>0</td>\n",
              "      <td>1</td>\n",
              "      <td>1</td>\n",
              "      <td>242.0</td>\n",
              "    </tr>\n",
              "    <tr>\n",
              "      <th>31579</th>\n",
              "      <td>12</td>\n",
              "      <td>7</td>\n",
              "      <td>0.010000</td>\n",
              "      <td>50</td>\n",
              "      <td>1</td>\n",
              "      <td>0</td>\n",
              "      <td>0</td>\n",
              "      <td>1</td>\n",
              "      <td>0</td>\n",
              "      <td>0</td>\n",
              "      <td>0</td>\n",
              "      <td>0</td>\n",
              "      <td>0</td>\n",
              "      <td>1</td>\n",
              "      <td>0</td>\n",
              "      <td>0</td>\n",
              "      <td>2</td>\n",
              "      <td>140.0</td>\n",
              "    </tr>\n",
              "    <tr>\n",
              "      <th>31580</th>\n",
              "      <td>18</td>\n",
              "      <td>5</td>\n",
              "      <td>0.010000</td>\n",
              "      <td>300</td>\n",
              "      <td>1</td>\n",
              "      <td>0</td>\n",
              "      <td>1</td>\n",
              "      <td>0</td>\n",
              "      <td>0</td>\n",
              "      <td>0</td>\n",
              "      <td>0</td>\n",
              "      <td>1</td>\n",
              "      <td>0</td>\n",
              "      <td>0</td>\n",
              "      <td>0</td>\n",
              "      <td>0</td>\n",
              "      <td>2</td>\n",
              "      <td>189.0</td>\n",
              "    </tr>\n",
              "    <tr>\n",
              "      <th>31581</th>\n",
              "      <td>8</td>\n",
              "      <td>1</td>\n",
              "      <td>0.000001</td>\n",
              "      <td>10</td>\n",
              "      <td>1</td>\n",
              "      <td>0</td>\n",
              "      <td>0</td>\n",
              "      <td>1</td>\n",
              "      <td>0</td>\n",
              "      <td>1</td>\n",
              "      <td>0</td>\n",
              "      <td>0</td>\n",
              "      <td>0</td>\n",
              "      <td>0</td>\n",
              "      <td>0</td>\n",
              "      <td>0</td>\n",
              "      <td>3</td>\n",
              "      <td>116.0</td>\n",
              "    </tr>\n",
              "    <tr>\n",
              "      <th>31582</th>\n",
              "      <td>20</td>\n",
              "      <td>20</td>\n",
              "      <td>0.000001</td>\n",
              "      <td>10</td>\n",
              "      <td>1</td>\n",
              "      <td>0</td>\n",
              "      <td>0</td>\n",
              "      <td>1</td>\n",
              "      <td>0</td>\n",
              "      <td>0</td>\n",
              "      <td>1</td>\n",
              "      <td>0</td>\n",
              "      <td>0</td>\n",
              "      <td>0</td>\n",
              "      <td>0</td>\n",
              "      <td>0</td>\n",
              "      <td>3</td>\n",
              "      <td>69.0</td>\n",
              "    </tr>\n",
              "  </tbody>\n",
              "</table>\n",
              "<p>31583 rows × 18 columns</p>\n",
              "</div>\n",
              "      <button class=\"colab-df-convert\" onclick=\"convertToInteractive('df-a871649b-bf34-4980-8668-d2cc2135e7f7')\"\n",
              "              title=\"Convert this dataframe to an interactive table.\"\n",
              "              style=\"display:none;\">\n",
              "        \n",
              "  <svg xmlns=\"http://www.w3.org/2000/svg\" height=\"24px\"viewBox=\"0 0 24 24\"\n",
              "       width=\"24px\">\n",
              "    <path d=\"M0 0h24v24H0V0z\" fill=\"none\"/>\n",
              "    <path d=\"M18.56 5.44l.94 2.06.94-2.06 2.06-.94-2.06-.94-.94-2.06-.94 2.06-2.06.94zm-11 1L8.5 8.5l.94-2.06 2.06-.94-2.06-.94L8.5 2.5l-.94 2.06-2.06.94zm10 10l.94 2.06.94-2.06 2.06-.94-2.06-.94-.94-2.06-.94 2.06-2.06.94z\"/><path d=\"M17.41 7.96l-1.37-1.37c-.4-.4-.92-.59-1.43-.59-.52 0-1.04.2-1.43.59L10.3 9.45l-7.72 7.72c-.78.78-.78 2.05 0 2.83L4 21.41c.39.39.9.59 1.41.59.51 0 1.02-.2 1.41-.59l7.78-7.78 2.81-2.81c.8-.78.8-2.07 0-2.86zM5.41 20L4 18.59l7.72-7.72 1.47 1.35L5.41 20z\"/>\n",
              "  </svg>\n",
              "      </button>\n",
              "      \n",
              "  <style>\n",
              "    .colab-df-container {\n",
              "      display:flex;\n",
              "      flex-wrap:wrap;\n",
              "      gap: 12px;\n",
              "    }\n",
              "\n",
              "    .colab-df-convert {\n",
              "      background-color: #E8F0FE;\n",
              "      border: none;\n",
              "      border-radius: 50%;\n",
              "      cursor: pointer;\n",
              "      display: none;\n",
              "      fill: #1967D2;\n",
              "      height: 32px;\n",
              "      padding: 0 0 0 0;\n",
              "      width: 32px;\n",
              "    }\n",
              "\n",
              "    .colab-df-convert:hover {\n",
              "      background-color: #E2EBFA;\n",
              "      box-shadow: 0px 1px 2px rgba(60, 64, 67, 0.3), 0px 1px 3px 1px rgba(60, 64, 67, 0.15);\n",
              "      fill: #174EA6;\n",
              "    }\n",
              "\n",
              "    [theme=dark] .colab-df-convert {\n",
              "      background-color: #3B4455;\n",
              "      fill: #D2E3FC;\n",
              "    }\n",
              "\n",
              "    [theme=dark] .colab-df-convert:hover {\n",
              "      background-color: #434B5C;\n",
              "      box-shadow: 0px 1px 3px 1px rgba(0, 0, 0, 0.15);\n",
              "      filter: drop-shadow(0px 1px 2px rgba(0, 0, 0, 0.3));\n",
              "      fill: #FFFFFF;\n",
              "    }\n",
              "  </style>\n",
              "\n",
              "      <script>\n",
              "        const buttonEl =\n",
              "          document.querySelector('#df-a871649b-bf34-4980-8668-d2cc2135e7f7 button.colab-df-convert');\n",
              "        buttonEl.style.display =\n",
              "          google.colab.kernel.accessAllowed ? 'block' : 'none';\n",
              "\n",
              "        async function convertToInteractive(key) {\n",
              "          const element = document.querySelector('#df-a871649b-bf34-4980-8668-d2cc2135e7f7');\n",
              "          const dataTable =\n",
              "            await google.colab.kernel.invokeFunction('convertToInteractive',\n",
              "                                                     [key], {});\n",
              "          if (!dataTable) return;\n",
              "\n",
              "          const docLinkHtml = 'Like what you see? Visit the ' +\n",
              "            '<a target=\"_blank\" href=https://colab.research.google.com/notebooks/data_table.ipynb>data table notebook</a>'\n",
              "            + ' to learn more about interactive tables.';\n",
              "          element.innerHTML = '';\n",
              "          dataTable['output_type'] = 'display_data';\n",
              "          await google.colab.output.renderOutput(dataTable, element);\n",
              "          const docLink = document.createElement('div');\n",
              "          docLink.innerHTML = docLinkHtml;\n",
              "          element.appendChild(docLink);\n",
              "        }\n",
              "      </script>\n",
              "    </div>\n",
              "  </div>\n",
              "  "
            ]
          },
          "metadata": {},
          "execution_count": 43
        }
      ]
    },
    {
      "cell_type": "code",
      "source": [
        "for i in range(size):\n",
        "    if(train[\"Healthcare\"][i] == 1):\n",
        "\n",
        "      if(train[\"PacketLossRate\"][i] == 0.01):\n",
        "        if(train[\"PacketDelay\"][i] == 50 or train[\"PacketDelay\"][i] == 10):\n",
        "          if(train[\"PacketSize\"][i] >= 50 and train[\"PacketSize\"][i] <= 220):\n",
        "            train[\"sliceType\"][i] = 2\n",
        "        elif(train[\"PacketDelay\"][i] >= 75):\n",
        "          if(train[\"PacketSize\"][i] >= 120 and train[\"PacketSize\"][i] <= 220):\n",
        "              train[\"sliceType\"][i] = 2\n",
        "\n",
        "      elif(train[\"PacketLossRate\"][i] == 0.001):\n",
        "          if(train[\"PacketDelay\"][i] >= 50 or train[\"PacketDelay\"][i] < 100):\n",
        "            if(train[\"PacketSize\"][i] >= 200 and train[\"PacketSize\"][i] <= 250):\n",
        "              train[\"sliceType\"][i] = 1\n",
        "            elif(train[\"PacketSize\"][i] >= 50 and train[\"PacketSize\"][i] <= 200):\n",
        "              train[\"sliceType\"][i] = 1\n",
        "\n",
        "      elif(train[\"PacketLossRate\"][i] == 0.000001):\n",
        "          if(train[\"PacketDelay\"][i] == 10):\n",
        "            if(train[\"PacketSize\"][i] >= 50 and train[\"PacketSize\"][i] <= 150):\n",
        "              train[\"sliceType\"][i] = 3"
      ],
      "metadata": {
        "colab": {
          "base_uri": "https://localhost:8080/"
        },
        "id": "cWvRQ6Ddtc4F",
        "outputId": "1456bc0b-9747-4fe9-c948-61ad54cfbbef"
      },
      "execution_count": null,
      "outputs": [
        {
          "output_type": "stream",
          "name": "stderr",
          "text": [
            "<ipython-input-44-94b43292726f>:10: SettingWithCopyWarning: \n",
            "A value is trying to be set on a copy of a slice from a DataFrame\n",
            "\n",
            "See the caveats in the documentation: https://pandas.pydata.org/pandas-docs/stable/user_guide/indexing.html#returning-a-view-versus-a-copy\n",
            "  train[\"sliceType\"][i] = 2\n",
            "<ipython-input-44-94b43292726f>:22: SettingWithCopyWarning: \n",
            "A value is trying to be set on a copy of a slice from a DataFrame\n",
            "\n",
            "See the caveats in the documentation: https://pandas.pydata.org/pandas-docs/stable/user_guide/indexing.html#returning-a-view-versus-a-copy\n",
            "  train[\"sliceType\"][i] = 3\n",
            "<ipython-input-44-94b43292726f>:17: SettingWithCopyWarning: \n",
            "A value is trying to be set on a copy of a slice from a DataFrame\n",
            "\n",
            "See the caveats in the documentation: https://pandas.pydata.org/pandas-docs/stable/user_guide/indexing.html#returning-a-view-versus-a-copy\n",
            "  train[\"sliceType\"][i] = 1\n"
          ]
        }
      ]
    },
    {
      "cell_type": "code",
      "source": [
        "#Healthcare packet loss rate\n",
        "count_1=0\n",
        "count_2=0\n",
        "count_3=0\n",
        "size=31583\n",
        "for i in range(size):\n",
        "  if train['Healthcare'][i]==1:\n",
        "    if train['sliceType'][i]==1 :count_1+=1\n",
        "    elif(train['sliceType'][i]==2):count_2+=1\n",
        "    else:count_3+=1\n",
        "print(count_1,count_2,count_3)"
      ],
      "metadata": {
        "colab": {
          "base_uri": "https://localhost:8080/"
        },
        "id": "fFEKsWvTQAi0",
        "outputId": "44975911-2429-404f-9944-9b3f2a6eb7cb"
      },
      "execution_count": null,
      "outputs": [
        {
          "output_type": "stream",
          "name": "stdout",
          "text": [
            "488 106 1236\n"
          ]
        }
      ]
    },
    {
      "cell_type": "code",
      "source": [
        "Xmain = train[{'PacketLossRate', 'PacketDelay' , 'PacketSize'}]\n",
        "Ymain = train['sliceType']"
      ],
      "metadata": {
        "id": "VVq27S1Io8la"
      },
      "execution_count": null,
      "outputs": []
    },
    {
      "cell_type": "code",
      "source": [
        "from sklearn.model_selection import train_test_split\n",
        "X_train , X_test , Y_train , Y_test = train_test_split(Xmain, Ymain , test_size=0.2, random_state=0)\n",
        "X_train.shape, X_test.shape"
      ],
      "metadata": {
        "colab": {
          "base_uri": "https://localhost:8080/"
        },
        "id": "g99Z8Sm_pCr4",
        "outputId": "1e5919c1-586a-47b2-c857-4adeb96e24e3"
      },
      "execution_count": null,
      "outputs": [
        {
          "output_type": "execute_result",
          "data": {
            "text/plain": [
              "((25266, 3), (6317, 3))"
            ]
          },
          "metadata": {},
          "execution_count": 47
        }
      ]
    },
    {
      "cell_type": "code",
      "source": [
        "from sklearn.ensemble import RandomForestClassifier\n",
        "clf = RandomForestClassifier(max_depth = 4, random_state=0)\n",
        "clf.fit(X_train, Y_train)\n",
        "Y_pred = clf.predict(X_test)\n",
        "clf.score(X_train,Y_train),clf.score(X_test,Y_test)"
      ],
      "metadata": {
        "colab": {
          "base_uri": "https://localhost:8080/"
        },
        "id": "acLey-pNpY8M",
        "outputId": "2fbde591-6440-46e4-a41f-ca7d2a0f6703"
      },
      "execution_count": null,
      "outputs": [
        {
          "output_type": "execute_result",
          "data": {
            "text/plain": [
              "(0.9738779387318927, 0.9732467943644135)"
            ]
          },
          "metadata": {},
          "execution_count": 48
        }
      ]
    },
    {
      "cell_type": "code",
      "source": [
        "print(Y_pred)\n",
        "print(Y_test)"
      ],
      "metadata": {
        "colab": {
          "base_uri": "https://localhost:8080/"
        },
        "id": "e9o3s5bkp_rx",
        "outputId": "5b3ef765-b3dc-4e92-f8ea-c060ff6000d3"
      },
      "execution_count": null,
      "outputs": [
        {
          "output_type": "stream",
          "name": "stdout",
          "text": [
            "[1 3 3 ... 1 3 1]\n",
            "7366     1\n",
            "18       3\n",
            "9214     3\n",
            "12282    2\n",
            "27179    1\n",
            "        ..\n",
            "16042    1\n",
            "6072     1\n",
            "13330    1\n",
            "31460    3\n",
            "16447    1\n",
            "Name: sliceType, Length: 6317, dtype: int64\n"
          ]
        }
      ]
    },
    {
      "cell_type": "code",
      "source": [
        "new_train = train.loc[train['Healthcare'] == 1]\n",
        "health_index= new_train.index\n",
        "health_index"
      ],
      "metadata": {
        "colab": {
          "base_uri": "https://localhost:8080/"
        },
        "id": "XeBOPPLB1Ydj",
        "outputId": "f01e3500-40a0-442a-e0b2-96cc0f43fbb4"
      },
      "execution_count": null,
      "outputs": [
        {
          "output_type": "execute_result",
          "data": {
            "text/plain": [
              "Int64Index([   11,    18,    34,    62,    75,    90,    94,    95,   112,\n",
              "              136,\n",
              "            ...\n",
              "            31298, 31308, 31328, 31338, 31372, 31414, 31438, 31497, 31553,\n",
              "            31581],\n",
              "           dtype='int64', length=1830)"
            ]
          },
          "metadata": {},
          "execution_count": 50
        }
      ]
    },
    {
      "cell_type": "code",
      "source": [
        "ind = Y_test.index\n",
        "arr_pred = np.zeros(size)\n",
        "for i in range(6317):\n",
        "  arr_pred[ind[i]]= Y_pred[i]\n",
        "\n",
        "arr_test = np.zeros(size)\n",
        "for i in range(6317):\n",
        "  arr_test[ind[i]] = Y_test[ind[i]]"
      ],
      "metadata": {
        "id": "hcYx-x1sWemF"
      },
      "execution_count": null,
      "outputs": []
    },
    {
      "cell_type": "code",
      "source": [
        "ind"
      ],
      "metadata": {
        "colab": {
          "base_uri": "https://localhost:8080/"
        },
        "id": "O3OYRqiVfMRP",
        "outputId": "5fb7bd19-281c-45cf-9cae-596e16def43d"
      },
      "execution_count": null,
      "outputs": [
        {
          "output_type": "execute_result",
          "data": {
            "text/plain": [
              "Int64Index([ 7366,    18,  9214, 12282, 27179, 10701, 14485,  2017, 13210,\n",
              "            11176,\n",
              "            ...\n",
              "            20798, 19014, 15745, 31541, 10594, 16042,  6072, 13330, 31460,\n",
              "            16447],\n",
              "           dtype='int64', length=6317)"
            ]
          },
          "metadata": {},
          "execution_count": 52
        }
      ]
    },
    {
      "cell_type": "code",
      "source": [
        "health_test = np.zeros(size)\n",
        "health_pred = np.zeros(size)\n",
        "for i in range(1830):\n",
        "  health_test[health_index[i]] = arr_test[health_index[i]]\n",
        "  health_pred[health_index[i]] = arr_pred[health_index[i]]\n",
        "\n",
        "h_test = np.zeros(379)\n",
        "h_pred = np.zeros(379)\n",
        "j=0\n",
        "for i in range(size):\n",
        "  if(health_test[i] != 0):\n",
        "    h_test[j] = health_test[i]\n",
        "    h_pred[j] = health_pred[i]\n",
        "    j=j+1\n",
        "\n",
        "count=0\n",
        "for i in range(size):\n",
        "  if(health_test[i] != 0):\n",
        "    count=count+1\n",
        "count"
      ],
      "metadata": {
        "colab": {
          "base_uri": "https://localhost:8080/"
        },
        "id": "4VsnVhwoeLvR",
        "outputId": "547876f7-1b5d-42e9-c9f6-aadb0aab1db5"
      },
      "execution_count": null,
      "outputs": [
        {
          "output_type": "execute_result",
          "data": {
            "text/plain": [
              "379"
            ]
          },
          "metadata": {},
          "execution_count": 53
        }
      ]
    },
    {
      "cell_type": "code",
      "source": [
        "from sklearn.metrics import confusion_matrix, classification_report,accuracy_score\n",
        "\n",
        "print(confusion_matrix(Y_test, Y_pred))\n",
        "print(classification_report(Y_test, Y_pred))\n",
        "print(accuracy_score(Y_test, Y_pred))"
      ],
      "metadata": {
        "colab": {
          "base_uri": "https://localhost:8080/"
        },
        "id": "1MXuax84Ut1r",
        "outputId": "8f49b5ff-20f2-41b1-d4f5-3affe915291c"
      },
      "execution_count": null,
      "outputs": [
        {
          "output_type": "stream",
          "name": "stdout",
          "text": [
            "[[3466   28    0]\n",
            " [ 141 1390    0]\n",
            " [   0    0 1292]]\n",
            "              precision    recall  f1-score   support\n",
            "\n",
            "           1       0.96      0.99      0.98      3494\n",
            "           2       0.98      0.91      0.94      1531\n",
            "           3       1.00      1.00      1.00      1292\n",
            "\n",
            "    accuracy                           0.97      6317\n",
            "   macro avg       0.98      0.97      0.97      6317\n",
            "weighted avg       0.97      0.97      0.97      6317\n",
            "\n",
            "0.9732467943644135\n"
          ]
        }
      ]
    },
    {
      "cell_type": "code",
      "source": [
        "from sklearn.metrics import confusion_matrix, classification_report, accuracy_score\n",
        "\n",
        "print(confusion_matrix(h_test, h_pred))\n",
        "print(classification_report(h_test, h_pred))\n",
        "print(accuracy_score(h_test, h_pred)*100)"
      ],
      "metadata": {
        "colab": {
          "base_uri": "https://localhost:8080/"
        },
        "id": "MgqGJc0fjiE7",
        "outputId": "0d9b2f15-b2fb-4ec1-8c21-1aec43bcac6e"
      },
      "execution_count": null,
      "outputs": [
        {
          "output_type": "stream",
          "name": "stdout",
          "text": [
            "[[ 77  28   0]\n",
            " [  0  21   0]\n",
            " [  0   0 253]]\n",
            "              precision    recall  f1-score   support\n",
            "\n",
            "         1.0       1.00      0.73      0.85       105\n",
            "         2.0       0.43      1.00      0.60        21\n",
            "         3.0       1.00      1.00      1.00       253\n",
            "\n",
            "    accuracy                           0.93       379\n",
            "   macro avg       0.81      0.91      0.82       379\n",
            "weighted avg       0.97      0.93      0.94       379\n",
            "\n",
            "92.61213720316623\n"
          ]
        }
      ]
    },
    {
      "cell_type": "code",
      "source": [
        "plt.figure(figsize=(10,10))\n",
        "sns.countplot('sliceType',data=train,hue='PacketDelay')"
      ],
      "metadata": {
        "colab": {
          "base_uri": "https://localhost:8080/",
          "height": 683
        },
        "id": "ujh7oj1x5RL8",
        "outputId": "4a1f63cf-3781-45a2-d19a-c84f0008f98f"
      },
      "execution_count": null,
      "outputs": [
        {
          "output_type": "stream",
          "name": "stderr",
          "text": [
            "/usr/local/lib/python3.8/dist-packages/seaborn/_decorators.py:36: FutureWarning: Pass the following variable as a keyword arg: x. From version 0.12, the only valid positional argument will be `data`, and passing other arguments without an explicit keyword will result in an error or misinterpretation.\n",
            "  warnings.warn(\n"
          ]
        },
        {
          "output_type": "execute_result",
          "data": {
            "text/plain": [
              "<matplotlib.axes._subplots.AxesSubplot at 0x7f894045c6d0>"
            ]
          },
          "metadata": {},
          "execution_count": 56
        },
        {
          "output_type": "display_data",
          "data": {
            "text/plain": [
              "<Figure size 720x720 with 1 Axes>"
            ],
            "image/png": "[encoded data removed]"
          },
          "metadata": {}
        }
      ]
    },
    {
      "cell_type": "code",
      "source": [
        "plt.figure(figsize=(6,6))\n",
        "sns.countplot('sliceType',data=train,hue='PacketLossRate')"
      ],
      "metadata": {
        "colab": {
          "base_uri": "https://localhost:8080/",
          "height": 466
        },
        "id": "KVr-VIL_7XqO",
        "outputId": "043aabf6-8bb8-4bc6-9f86-6471cbc26d08"
      },
      "execution_count": null,
      "outputs": [
        {
          "output_type": "stream",
          "name": "stderr",
          "text": [
            "/usr/local/lib/python3.8/dist-packages/seaborn/_decorators.py:36: FutureWarning: Pass the following variable as a keyword arg: x. From version 0.12, the only valid positional argument will be `data`, and passing other arguments without an explicit keyword will result in an error or misinterpretation.\n",
            "  warnings.warn(\n"
          ]
        },
        {
          "output_type": "execute_result",
          "data": {
            "text/plain": [
              "<matplotlib.axes._subplots.AxesSubplot at 0x7f893f8fa730>"
            ]
          },
          "metadata": {},
          "execution_count": 57
        },
        {
          "output_type": "display_data",
          "data": {
            "text/plain": [
              "<Figure size 432x432 with 1 Axes>"
            ],
            "image/png": "[encoded data removed]"
          },
          "metadata": {}
        }
      ]
    },
    {
      "cell_type": "code",
      "source": [
        "plt.figure(figsize=(10,5))\n",
        "sns.set()\n",
        "sns.countplot('sliceType',data=new_train,hue='PacketDelay')"
      ],
      "metadata": {
        "colab": {
          "base_uri": "https://localhost:8080/",
          "height": 411
        },
        "id": "elFh1Osh7vIK",
        "outputId": "9416b0f2-7827-47ab-ab98-e6b5f30b46f6"
      },
      "execution_count": null,
      "outputs": [
        {
          "output_type": "stream",
          "name": "stderr",
          "text": [
            "/usr/local/lib/python3.8/dist-packages/seaborn/_decorators.py:36: FutureWarning: Pass the following variable as a keyword arg: x. From version 0.12, the only valid positional argument will be `data`, and passing other arguments without an explicit keyword will result in an error or misinterpretation.\n",
            "  warnings.warn(\n"
          ]
        },
        {
          "output_type": "execute_result",
          "data": {
            "text/plain": [
              "<matplotlib.axes._subplots.AxesSubplot at 0x7f893fda8f40>"
            ]
          },
          "metadata": {},
          "execution_count": 58
        },
        {
          "output_type": "display_data",
          "data": {
            "text/plain": [
              "<Figure size 720x360 with 1 Axes>"
            ],
            "image/png": "[encoded data removed]"
          },
          "metadata": {}
        }
      ]
    },
    {
      "cell_type": "code",
      "source": [
        "plt.figure(figsize=(10,5))\n",
        "sns.countplot('sliceType',data=new_train,hue='PacketLossRate')"
      ],
      "metadata": {
        "colab": {
          "base_uri": "https://localhost:8080/",
          "height": 411
        },
        "id": "bM1WHyhA8e6j",
        "outputId": "bb084c64-69cf-4cb1-9f71-52bcd6bcfc12"
      },
      "execution_count": null,
      "outputs": [
        {
          "output_type": "stream",
          "name": "stderr",
          "text": [
            "/usr/local/lib/python3.8/dist-packages/seaborn/_decorators.py:36: FutureWarning: Pass the following variable as a keyword arg: x. From version 0.12, the only valid positional argument will be `data`, and passing other arguments without an explicit keyword will result in an error or misinterpretation.\n",
            "  warnings.warn(\n"
          ]
        },
        {
          "output_type": "execute_result",
          "data": {
            "text/plain": [
              "<matplotlib.axes._subplots.AxesSubplot at 0x7f89406bb7c0>"
            ]
          },
          "metadata": {},
          "execution_count": 59
        },
        {
          "output_type": "display_data",
          "data": {
            "text/plain": [
              "<Figure size 720x360 with 1 Axes>"
            ],
            "image/png": "[encoded data removed]"
          },
          "metadata": {}
        }
      ]
    },
    {
      "cell_type": "code",
      "source": [
        "plt.figure(figsize=(10, 5))\n",
        "\n",
        "sns.countplot('sliceType',data=new_train,hue='PacketSize')"
      ],
      "metadata": {
        "colab": {
          "base_uri": "https://localhost:8080/",
          "height": 1000
        },
        "id": "XzMu4_z78rbW",
        "outputId": "4d6a7255-8da4-4598-fc81-96b1b3c4aa4f"
      },
      "execution_count": null,
      "outputs": [
        {
          "output_type": "stream",
          "name": "stderr",
          "text": [
            "/usr/local/lib/python3.8/dist-packages/seaborn/_decorators.py:36: FutureWarning: Pass the following variable as a keyword arg: x. From version 0.12, the only valid positional argument will be `data`, and passing other arguments without an explicit keyword will result in an error or misinterpretation.\n",
            "  warnings.warn(\n"
          ]
        },
        {
          "output_type": "execute_result",
          "data": {
            "text/plain": [
              "<matplotlib.axes._subplots.AxesSubplot at 0x7f8940807e20>"
            ]
          },
          "metadata": {},
          "execution_count": 60
        },
        {
          "output_type": "display_data",
          "data": {
            "text/plain": [
              "<Figure size 720x360 with 1 Axes>"
            ],
            "image/png": "[encoded data removed]"
          },
          "metadata": {}
        }
      ]
    }
  ]
}